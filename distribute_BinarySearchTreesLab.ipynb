{
 "cells": [
  {
   "cell_type": "code",
   "execution_count": 7,
   "metadata": {
    "collapsed": true
   },
   "outputs": [],
   "source": [
    "import subprocess\n",
    "from IPython.display import Image\n",
    "import os.path\n",
    "def plotbtree(btree, fname, redo=False, augmented=False):\n",
    "    if os.path.exists(fname+\".png\") and not redo:\n",
    "        return Image(fname+\".png\")\n",
    "    start=\"\"\"\n",
    "    digraph G {\n",
    "    nodesep=0.3;\n",
    "    ranksep=0.2;\n",
    "    margin=0.1;\n",
    "    node [shape=circle];\n",
    "    edge [arrowsize=0.8];\n",
    "    \"\"\"\n",
    "    end = \"}\"\n",
    "    assert btree.isRoot(), \"Must start at root\"\n",
    "    lines=\"\"\n",
    "    labeldict={}\n",
    "    for t in btree.preorder():\n",
    "        if not t[0].uuid in labeldict:\n",
    "            labeldict[t[0].uuid]=t[0]\n",
    "        if not t[1].uuid in labeldict:\n",
    "            labeldict[t[1].uuid]=t[1]\n",
    "        lines = lines + \"\\\"{}\\\" -> \\\"{}\\\"[side={}];\\n\".format(t[0].uuid,t[1].uuid,t[2])\n",
    "    if augmented:\n",
    "        end=\"\\n\".join([\"\\\"{}\\\"[label=<{}<BR/><FONT POINT-SIZE=\\\"10\\\">{},{}</FONT>>]\".format(k,v.data,v.size, v.count) for (k, v) in labeldict.items()])+end\n",
    "    else:\n",
    "        end=\"\\n\".join([\"\\\"{}\\\"[label=<{}<BR/><FONT POINT-SIZE=\\\"10\\\">count={}</FONT>>]\".format(k,v.data,v.count) for (k, v) in labeldict.items()])+end\n",
    "       \n",
    "    start = start + lines +end\n",
    "    with open(fname+\".dot\",\"w\") as fd:\n",
    "        fd.write(start)\n",
    "    subprocess.call(['./treeplot.sh', fname])\n",
    "    return Image(fname+\".png\")"
   ]
  },
  {
   "cell_type": "code",
   "execution_count": 1,
   "metadata": {
    "collapsed": true
   },
   "outputs": [],
   "source": [
    "import uuid\n",
    "class BinaryTree:\n",
    "    def __init__(self, data, parent=None):\n",
    "        self.data = data\n",
    "        self.parent = parent\n",
    "        self.uuid= uuid.uuid4()\n",
    "        self.left = None\n",
    "        self.right = None    \n",
    "            \n",
    "    def addLeftChild(self, data): \n",
    "        n = self.__class__(data, self)\n",
    "        self.left = n\n",
    "        return n\n",
    "        \n",
    "    def addRightChild(self, data):\n",
    "        n = self.__class__(data, self)\n",
    "        self.right = n\n",
    "        return n\n",
    "        \n",
    "    def hasLeftChild(self):\n",
    "        return self.left is not None\n",
    "\n",
    "    def hasRightChild(self):\n",
    "        return self.right is not None\n",
    "\n",
    "    def hasAnyChild(self):\n",
    "        return self.hasRightChild() or self.hasLeftChild()\n",
    "\n",
    "    def hasBothChildren(self):\n",
    "        return self.hasRightChild() and self.hasLeftChild()\n",
    "    \n",
    "    def hasNoChildren(self):\n",
    "        return not self.hasRightChild() and not self.hasLeftChild()\n",
    "    \n",
    "    def isLeftChild(self):\n",
    "        return self.parent and self.parent.left == self\n",
    "\n",
    "    def isRightChild(self):\n",
    "        return self.parent and self.parent.right == self\n",
    "\n",
    "    def isRoot(self):\n",
    "        return not self.parent\n",
    "\n",
    "    def isLeaf(self):\n",
    "        return not (self.right or self.left)\n",
    "    \n",
    "            \n",
    "    def preorder(self):\n",
    "        if self.isLeftChild():\n",
    "            yield (self.parent, self, \"left\")\n",
    "        elif self.isRightChild():\n",
    "            yield (self.parent, self, \"right\")\n",
    "        if self.hasLeftChild():\n",
    "            for v in self.left.preorder():\n",
    "                yield v\n",
    "        if self.hasRightChild():\n",
    "            for v in self.right.preorder():\n",
    "                yield v\n"
   ]
  },
  {
   "cell_type": "code",
   "execution_count": 2,
   "metadata": {
    "collapsed": true
   },
   "outputs": [],
   "source": [
    "class BinarySearchTree(BinaryTree):\n",
    "        \n",
    "    def __init__(self, data, parent=None):\n",
    "        super().__init__(data, parent)\n",
    "        self.count = 1\n",
    "\n",
    "    def _insert_hook(self):\n",
    "        pass\n",
    "            \n",
    "    def insert(self, data):\n",
    "        if data < self.data:\n",
    "            if self.hasLeftChild():\n",
    "                self.left.insert(data)\n",
    "            else:\n",
    "                self.addLeftChild(data)\n",
    "                self._insert_hook()\n",
    "        elif data > self.data:\n",
    "            if self.hasRightChild():\n",
    "                self.right.insert(data)\n",
    "            else:\n",
    "                self.addRightChild(data)\n",
    "                self._insert_hook()\n",
    "        else: #duplicate value\n",
    "            self.count += 1\n",
    "            self._insert_hook()\n",
    "            \n",
    "    def search(self, data):\n",
    "        if self.data == data:\n",
    "            return self\n",
    "        elif data < self.data and self.left:\n",
    "            return self.left.search(data)\n",
    "        elif data > self.data and self.right:\n",
    "            return self.right.search(data)\n",
    "        else:\n",
    "            return None\n",
    "        \n",
    "    def delete(self, data):        \n",
    "        if self.isRoot() and self.hasNoChildren() and self.data==data:#deleting the whole tree\n",
    "            self.root=None#todo call a destructor that signals GC it can reap\n",
    "            #self._update_sizes(up=False) #really tree is gone\n",
    "            self._remove_hook()\n",
    "        elif self.hasAnyChild():\n",
    "            noder = self.search(data)\n",
    "            if noder:\n",
    "                self._remove(noder)\n",
    "            else:\n",
    "                raise ValueError(\"No such data {} in tree\".format(data))\n",
    "        else:\n",
    "            raise ValueError(\"No such data {} in tree\".format(data))\n",
    "\n",
    "    def _remove_hook(self, up=False, by=1):\n",
    "        pass\n",
    "    \n",
    "    def _remove(self, node):\n",
    "        if node.isLeaf():\n",
    "            if node.isLeftChild():\n",
    "                node.parent.left = None\n",
    "            else:\n",
    "                node.parent.right = None\n",
    "            #node._update_sizes(up=False, by=node.count)\n",
    "            node._remove_hook(by=node.count)\n",
    "            del node\n",
    "        elif node.hasBothChildren():\n",
    "            s = node.successor()\n",
    "            #successor is guaranteed to have right child only\n",
    "            s.spliceOut()\n",
    "            #s._update_sizes(up=False, by=s.count)\n",
    "            s._remove_hook(by=s.count)\n",
    "            #handled more generally above\n",
    "            #s.right.parent = s.parent\n",
    "            #s.parent.left = s.right\n",
    "            node.data = s.data\n",
    "            #diff = s.count - node.count            \n",
    "            #node._update_sizes(by=diff)\n",
    "            node._remove_hook(up=True, by = s.count - node.count)\n",
    "            node.count = s.count\n",
    "            del s #the node became the successor\n",
    "        else: # one child case\n",
    "            if node.hasLeftChild():\n",
    "                if node.isLeftChild():\n",
    "                    node.left.parent = node.parent\n",
    "                    node.parent.left = node.left\n",
    "                elif node.isRightChild():\n",
    "                    node.left.parent = node.parent\n",
    "                    node.parent.right = node.left\n",
    "                else: #root\n",
    "                    self.root = node.left\n",
    "                #node._update_sizes(up=False, by=node.count)\n",
    "                node._remove_hook(by=node.count)\n",
    "                del node\n",
    "            else:\n",
    "                if node.isLeftChild():\n",
    "                    node.right.parent = node.parent\n",
    "                    node.parent.left = node.right\n",
    "                elif node.isRightChild():\n",
    "                    node.right.parent = node.parent\n",
    "                    node.parent.right = node.right\n",
    "                else: #root\n",
    "                    self.root = node.right\n",
    "                #node._update_sizes(up=False, by=node.count)\n",
    "                node._remove_hook(by=node.count)\n",
    "                del node\n",
    "                    \n",
    "    def findMin(self):\n",
    "        minnode = self\n",
    "        while minnode.hasLeftChild():\n",
    "            minnode = minnode.left\n",
    "        return minnode\n",
    "    \n",
    "    def findMax(self):\n",
    "        maxnode = self\n",
    "        while maxnode.hasRightChild():\n",
    "            maxnode = maxnode.right\n",
    "        return maxnode\n",
    "    \n",
    "    def successor(self):\n",
    "        s = None\n",
    "        if self.hasRightChild():\n",
    "            s = self.right.findMin()\n",
    "        else:\n",
    "            if self.parent:\n",
    "                if self.isLeftChild():\n",
    "                    s = self.parent\n",
    "                else:\n",
    "                    self.parent.right=None\n",
    "                    s = self.parent.successor()\n",
    "                    self.parent.right=self\n",
    "        return s\n",
    "    \n",
    "    def predecessor(self):\n",
    "        p=None\n",
    "        if self.hasLeftChild():\n",
    "            p = self.left.findMax()\n",
    "        else:\n",
    "            if self.parent:\n",
    "                if self.isRightChild():\n",
    "                    p = self.parent\n",
    "                else:\n",
    "                    self.parent.left = None\n",
    "                    p = self.parent.predecessor()\n",
    "                    self.parent.left = self\n",
    "        return p\n",
    "            \n",
    "    def spliceOut(self):\n",
    "        if self.isLeaf():\n",
    "            if self.isLeftChild():\n",
    "                self.parent.left = None\n",
    "            else:\n",
    "                self.parent.right = None\n",
    "        elif self.hasAnyChild():\n",
    "            if self.hasLeftChild():\n",
    "                if self.isLeftChild():\n",
    "                    self.parent.left = self.left\n",
    "                else:\n",
    "                    self.parent.right = self.left\n",
    "                self.left.parent = self.parent\n",
    "            else:\n",
    "                if self.isLeftChild():\n",
    "                    self.parent.left = self.right\n",
    "                else:\n",
    "                    self.parent.right = self.right\n",
    "                self.right.parent = self.parent\n",
    "       \n",
    "\n",
    "    #now implement various pythonic things\n",
    "    \n",
    "    def __iter__(self):\n",
    "        if self is not None:\n",
    "            if self.hasLeftChild():\n",
    "                for node in self.left:\n",
    "                    yield node\n",
    "            for _ in range(self.count):\n",
    "                yield self\n",
    "            if self.hasRightChild():\n",
    "                for node in self.right:\n",
    "                    yield node\n",
    "                    \n",
    "    def __len__(self):#expensive O(n) version\n",
    "        start=0\n",
    "        for node in self:\n",
    "            start += 1\n",
    "        return start\n",
    "    \n",
    "    def __getitem__(self, i):\n",
    "        return self.ithorder(i+1)\n",
    "    \n",
    "    def __contains__(self, data):\n",
    "        return self.search(data) is not None"
   ]
  },
  {
   "cell_type": "markdown",
   "metadata": {},
   "source": [
    "## Q1.\n",
    "\n",
    "Rank in an Augmented BST.\n",
    "\n",
    "Given a key, what is its rank?\n",
    "\n",
    "Write this in a method:\n",
    "\n",
    "`def rankof(self, data):` which returns a list of the ranks for this key. Hint: it might be easy to get the largest rank for a key first, and then using the count for that key, return the list. Its possible to this in one traversal."
   ]
  },
  {
   "cell_type": "code",
   "execution_count": 132,
   "metadata": {
    "collapsed": false
   },
   "outputs": [],
   "source": [
    "class AugmentedBinarySearchTree(BinarySearchTree):\n",
    "        \n",
    "    def __init__(self, data, parent=None):\n",
    "        super().__init__(data, parent)\n",
    "        self.size = 1\n",
    "        \n",
    "    def _update_sizes(self, up=True, by=1):\n",
    "        if up:\n",
    "            inc = by\n",
    "        else:\n",
    "            inc = -by\n",
    "        self.size += inc\n",
    "        curr = self\n",
    "        while curr.parent is not None:\n",
    "            curr.parent.size += inc\n",
    "            curr = curr.parent\n",
    "       \n",
    "    def _insert_hook(self):#insert up, by 1\n",
    "        self._update_sizes()\n",
    "            \n",
    "    def _remove_hook(self, up=False, by=1):\n",
    "        self._update_sizes(up, by)\n",
    "        \n",
    "    \n",
    "    def ithorder(self, i): #starts from 1\n",
    "        if self.hasLeftChild():\n",
    "            a = self.left.size\n",
    "        else:\n",
    "            a = 0\n",
    "        dupes = self.count - 1\n",
    "        if  a+1 <= i  < a+1 + dupes:\n",
    "            return self\n",
    "        if i < a + 1 : #wont go here for size 0 on left\n",
    "            return self.left.ithorder(i)\n",
    "        elif  a+1 <= i  <= a+1 + dupes:\n",
    "            return self\n",
    "        else:#ok to have self.right here and not check right child\n",
    "            return self.right.ithorder(i - a -1 -dupes)\n",
    "       \n",
    "    #now implement various pythonic things\n",
    "    \n",
    "    def __len__(self):\n",
    "        return self.size\n",
    "\n",
    "    \n",
    "    def __getitem__(self, i):\n",
    "        return self.ithorder(i+1)\n",
    "        \n",
    "    def rankof(self, data):\n",
    "        # find largest rank\n",
    "        if self.hasLeftChild():\n",
    "            s = self.left.size + self.count\n",
    "        else:\n",
    "            s = 1\n",
    "        \n",
    "        if (data < self.data) and (self.left):\n",
    "            return self.left.rankof(data)\n",
    "        elif (data > self.data) and (self.right):\n",
    "            return [i + s for i in self.right.rankof(data)]\n",
    "        elif (data == self.data):\n",
    "            if (self.left):\n",
    "                return [self.left.size + i for i in range(self.count)]\n",
    "            elif (self.isRightChild()):\n",
    "                return [i for i in range(self.count)]\n",
    "            return [i for i in range(self.count)]\n",
    "        else:\n",
    "            raise Exception(\"we should not be here\")\n",
    "        raise ValueError(\"no such data {} in tree\".format(data))"
   ]
  },
  {
   "cell_type": "markdown",
   "metadata": {},
   "source": [
    "Check that you get the currect answer for both lists from the lecture"
   ]
  },
  {
   "cell_type": "code",
   "execution_count": 4,
   "metadata": {
    "collapsed": true
   },
   "outputs": [],
   "source": [
    "ourlist=[17,5,35,2,11,29,38,9,16,7,8]\n",
    "duplist=[17,5,35,2,11,29,38,9,16,7,8,7,35,5,16,9,5]\n",
    "def btree_fromlist(inputlist, cls=BinarySearchTree):\n",
    "    start=inputlist[0]\n",
    "    rest=inputlist[1:]\n",
    "    btree = cls(start)\n",
    "    for item in rest:\n",
    "        btree.insert(item)\n",
    "    return btree"
   ]
  },
  {
   "cell_type": "code",
   "execution_count": 128,
   "metadata": {
    "collapsed": false
   },
   "outputs": [
    {
     "name": "stdout",
     "output_type": "stream",
     "text": [
      "[2, 5, 7, 8, 9, 11, 16, 17, 29, 35, 38] 11\n"
     ]
    }
   ],
   "source": [
    "btree = btree_fromlist(ourlist, AugmentedBinarySearchTree)\n",
    "print([e.data for e in btree], len(btree))"
   ]
  },
  {
   "cell_type": "code",
   "execution_count": 164,
   "metadata": {
    "collapsed": false
   },
   "outputs": [
    {
     "data": {
      "image/png": "[encoded data removed]",
      "text/plain": [
       "<IPython.core.display.Image object>"
      ]
     },
     "execution_count": 164,
     "metadata": {},
     "output_type": "execute_result"
    }
   ],
   "source": [
    "plotbtree(btree, 'oninsertsaug', augmented=True, redo=False)"
   ]
  },
  {
   "cell_type": "code",
   "execution_count": 129,
   "metadata": {
    "collapsed": false
   },
   "outputs": [
    {
     "name": "stdout",
     "output_type": "stream",
     "text": [
      "[2, 5, 5, 5, 7, 7, 8, 9, 9, 11, 16, 16, 17, 29, 35, 35, 38] 17 17\n"
     ]
    }
   ],
   "source": [
    "btreedup = btree_fromlist(duplist, AugmentedBinarySearchTree)\n",
    "print([e.data for e in btreedup], len(btreedup), len(duplist))"
   ]
  },
  {
   "cell_type": "code",
   "execution_count": 165,
   "metadata": {
    "collapsed": false
   },
   "outputs": [
    {
     "data": {
      "image/png": "[encoded data removed]",
      "text/plain": [
       "<IPython.core.display.Image object>"
      ]
     },
     "execution_count": 165,
     "metadata": {},
     "output_type": "execute_result"
    }
   ],
   "source": [
    "plotbtree(btreedup, 'oninsertsdupaug', augmented=True, redo=True)"
   ]
  },
  {
   "cell_type": "code",
   "execution_count": 130,
   "metadata": {
    "collapsed": false,
    "scrolled": true
   },
   "outputs": [
    {
     "name": "stdout",
     "output_type": "stream",
     "text": [
      "17 [7]\n",
      "5 [1]\n",
      "35 [9]\n",
      "2 [0]\n",
      "11 [5]\n",
      "29 [8]\n",
      "38 [10]\n",
      "9 [4]\n",
      "16 [6]\n",
      "7 [2]\n",
      "8 [3]\n"
     ]
    }
   ],
   "source": [
    "for v in ourlist:\n",
    "    print(v, btree.rankof(v))"
   ]
  },
  {
   "cell_type": "code",
   "execution_count": 131,
   "metadata": {
    "collapsed": false
   },
   "outputs": [
    {
     "name": "stdout",
     "output_type": "stream",
     "text": [
      "17 [12]\n",
      "5 [1, 2, 3]\n",
      "35 [14, 15]\n",
      "2 [0]\n",
      "11 [9]\n",
      "29 [13]\n",
      "38 [16]\n",
      "9 [7, 8]\n",
      "16 [10, 11]\n",
      "7 [4, 5]\n",
      "8 [5]\n",
      "7 [4, 5]\n",
      "35 [14, 15]\n",
      "5 [1, 2, 3]\n",
      "16 [10, 11]\n",
      "9 [7, 8]\n",
      "5 [1, 2, 3]\n"
     ]
    }
   ],
   "source": [
    "for v in duplist:\n",
    "    print(v, btreedup.rankof(v))"
   ]
  },
  {
   "cell_type": "markdown",
   "metadata": {},
   "source": [
    "## Q2.\n",
    "\n",
    "Implement a Key-Value Search true, which allows no duplicates, but rather, updates the value associated with the key. This will change how `insert` works. Inherit from the augmented tree:\n",
    "\n",
    "`class KeyValueBinarySearchTree(AugmentedBinarySearchTree):`\n",
    "\n",
    "- The constructor should look like this: `def __init__(self, key_value_tuple, parent=None):`. Pick the key and value out separately in the constructor, and initialize the super with just the key, setting an instance variable `self.value` to the value.\n",
    "- insert wont duplicate any more, and `addLeftChild` and `addRightChild` will need to take the tuple in as they call the constructor for us.\n",
    "- implement a `__getitem__`, `__setitem__`, and `__delitem__` so that you can use code like:\n",
    "\n",
    "`btreekv['f']` for searching\n",
    "\n",
    "`btreekv['f']=10` for inserting"
   ]
  },
  {
   "cell_type": "code",
   "execution_count": 182,
   "metadata": {
    "collapsed": true
   },
   "outputs": [],
   "source": [
    "class KeyValueBinarySearchTree(AugmentedBinarySearchTree):\n",
    "    \"\"\"\n",
    "    str1 < str2 if str1 comes before self.key in alphabetical ordering\n",
    "    For example: 'abc' < 'bac'\n",
    "    \"\"\"\n",
    "    \n",
    "    def __init__(self, key_value_tuple, parent=None):\n",
    "        key, value = key_value_tuple\n",
    "        super().__init__(key, parent)\n",
    "        self.value = value\n",
    "        \n",
    "    def insert(self, key_value_tuple):\n",
    "        key, value = key_value_tuple\n",
    "        if key < self.data:\n",
    "            if self.hasLeftChild():\n",
    "                self.left.insert(key_value_tuple)\n",
    "            else:\n",
    "                self.addLeftChild(key_value_tuple)\n",
    "                self._insert_hook()\n",
    "        elif key > self.data:\n",
    "            if self.hasRightChild():\n",
    "                self.right.insert(key_value_tuple)\n",
    "            else:\n",
    "                self.addRightChild(key_value_tuple)\n",
    "                self._insert_hook()\n",
    "        else:  # duplicate value\n",
    "            self.value = value\n",
    "    \n",
    "    def addLeftChild(self, key_value_tuple): \n",
    "        key, value = key_value_tuple\n",
    "        n = self.__class__(key_value_tuple, self)\n",
    "        self.left = n\n",
    "        self.left.value = value\n",
    "        return n\n",
    "    \n",
    "    def addRightChild(self, key_value_tuple): \n",
    "        key, value = key_value_tuple\n",
    "        n = self.__class__(key_value_tuple, self)\n",
    "        self.right = n\n",
    "        self.right.value = value\n",
    "        return n\n",
    "    \n",
    "    def __getitem__(self, key):\n",
    "        node = self.search(key)\n",
    "        if node:\n",
    "            return node.value\n",
    "        raise ValueError(\"no such key {} in tree\".format(key))\n",
    "        \n",
    "    def __setitem__(self, key, value):\n",
    "        node = self.search(key)\n",
    "        if node:\n",
    "            node.value = value\n",
    "        else:\n",
    "            self.insert((key, value))\n",
    "        \n",
    "    def __delitem__(self, key):\n",
    "        self.delete(key)\n",
    "        \n",
    "#     def _insert_hook(self):\n",
    "#         pass\n",
    "            \n",
    "#     def _remove_hook(self, up=False, by=1):\n",
    "#         pass"
   ]
  },
  {
   "cell_type": "code",
   "execution_count": 183,
   "metadata": {
    "collapsed": true
   },
   "outputs": [],
   "source": [
    "btreekv = KeyValueBinarySearchTree(('f', 3))"
   ]
  },
  {
   "cell_type": "code",
   "execution_count": 184,
   "metadata": {
    "collapsed": true
   },
   "outputs": [],
   "source": [
    "kvdata=zip(list('jeihrifhkdfks'), range(13))"
   ]
  },
  {
   "cell_type": "code",
   "execution_count": 185,
   "metadata": {
    "collapsed": false
   },
   "outputs": [],
   "source": [
    "for k,v in kvdata:\n",
    "    btreekv[k]=v"
   ]
  },
  {
   "cell_type": "code",
   "execution_count": 186,
   "metadata": {
    "collapsed": false
   },
   "outputs": [
    {
     "data": {
      "text/plain": [
       "[('d', 9),\n",
       " ('e', 1),\n",
       " ('f', 10),\n",
       " ('h', 7),\n",
       " ('i', 5),\n",
       " ('j', 0),\n",
       " ('k', 11),\n",
       " ('r', 4),\n",
       " ('s', 12)]"
      ]
     },
     "execution_count": 186,
     "metadata": {},
     "output_type": "execute_result"
    }
   ],
   "source": [
    "[(e.data, e.value) for e in list(btreekv)]"
   ]
  },
  {
   "cell_type": "code",
   "execution_count": 187,
   "metadata": {
    "collapsed": false
   },
   "outputs": [
    {
     "data": {
      "text/plain": [
       "10"
      ]
     },
     "execution_count": 187,
     "metadata": {},
     "output_type": "execute_result"
    }
   ],
   "source": [
    "btreekv['f']"
   ]
  },
  {
   "cell_type": "code",
   "execution_count": 188,
   "metadata": {
    "collapsed": false
   },
   "outputs": [
    {
     "data": {
      "image/png": "[encoded data removed]",
      "text/plain": [
       "<IPython.core.display.Image object>"
      ]
     },
     "execution_count": 188,
     "metadata": {},
     "output_type": "execute_result"
    }
   ],
   "source": [
    "plotbtree(btreekv, 'oninsertsdupaugkv', augmented=True, redo=False)"
   ]
  },
  {
   "cell_type": "markdown",
   "metadata": {},
   "source": [
    "## Q3.\n",
    "\n",
    "Use your code to make a third implementation of the `SimpleSet` interface from Monday."
   ]
  },
  {
   "cell_type": "code",
   "execution_count": 271,
   "metadata": {
    "collapsed": false
   },
   "outputs": [],
   "source": [
    "class SimpleSetKV:\n",
    "    def __init__(self, data):\n",
    "        self._storage = KeyValueBinarySearchTree(data[0])\n",
    "        for i in range(1, len(data)):\n",
    "            self._storage.insert(data[i])\n",
    "        \n",
    "    def __len__(self):\n",
    "        return self._storage.size\n",
    "        \n",
    "    def __iter__(self):\n",
    "        for i in self._storage:\n",
    "            yield (i.data, i.value)\n",
    "    \n",
    "    def __contains__(self, item)->bool:\n",
    "        return item in self._storage\n",
    "        \n",
    "    def add(self, item)->None:\n",
    "        self._storage.insert(item)\n",
    "        \n",
    "    def rem(self, item)->None:\n",
    "        self._storage.__delete__(item)\n",
    "        \n",
    "    def union(self, other):\n",
    "        s = SimpleSetKV(list(self))\n",
    "        for i in other:\n",
    "            s.add(i)  # no repeats in a KeyValueBinarySearchTree, so we don't have to worry\n",
    "        return s\n",
    "        \n",
    "    def intersection(self, other):\n",
    "        tuple_list = []\n",
    "        for (i, j) in zip(list(self), list(other)):\n",
    "            if i == j:\n",
    "                tuple_list.append(i)                \n",
    "        return SimpleSetKV(tuple_list)"
   ]
  },
  {
   "cell_type": "code",
   "execution_count": 272,
   "metadata": {
    "collapsed": false
   },
   "outputs": [],
   "source": [
    "# tests\n",
    "s = SimpleSetKV([('a', 1)])\n",
    "s.add(('c',3))"
   ]
  },
  {
   "cell_type": "code",
   "execution_count": 274,
   "metadata": {
    "collapsed": false
   },
   "outputs": [
    {
     "name": "stdout",
     "output_type": "stream",
     "text": [
      "('a', 1)\n",
      "('c', 3)\n"
     ]
    }
   ],
   "source": [
    "for i in s:\n",
    "    print (i)"
   ]
  },
  {
   "cell_type": "code",
   "execution_count": 275,
   "metadata": {
    "collapsed": false
   },
   "outputs": [],
   "source": [
    "q = SimpleSetKV([('a', 1), ('b', 2)])"
   ]
  },
  {
   "cell_type": "code",
   "execution_count": 276,
   "metadata": {
    "collapsed": false
   },
   "outputs": [
    {
     "name": "stdout",
     "output_type": "stream",
     "text": [
      "('a', 1)\n",
      "('b', 2)\n",
      "('c', 3)\n"
     ]
    }
   ],
   "source": [
    "for i in s.union(q):\n",
    "    print (i)"
   ]
  },
  {
   "cell_type": "code",
   "execution_count": 277,
   "metadata": {
    "collapsed": false
   },
   "outputs": [
    {
     "name": "stdout",
     "output_type": "stream",
     "text": [
      "('a', 1)\n"
     ]
    }
   ],
   "source": [
    "for i in s.intersection(q):\n",
    "    print (i)"
   ]
  }
 ],
 "metadata": {
  "kernelspec": {
   "display_name": "Python 3",
   "language": "python",
   "name": "python3"
  },
  "language_info": {
   "codemirror_mode": {
    "name": "ipython",
    "version": 3
   },
   "file_extension": ".py",
   "mimetype": "text/x-python",
   "name": "python",
   "nbconvert_exporter": "python",
   "pygments_lexer": "ipython3",
   "version": "3.5.1"
  }
 },
 "nbformat": 4,
 "nbformat_minor": 0
}
